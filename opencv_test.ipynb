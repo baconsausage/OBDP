{
 "cells": [
  {
   "cell_type": "markdown",
   "id": "03eb39b9-f4b3-4199-980e-74867f443284",
   "metadata": {
    "jp-MarkdownHeadingCollapsed": true,
    "tags": []
   },
   "source": [
    "# Opencv Check"
   ]
  },
  {
   "cell_type": "code",
   "execution_count": 8,
   "id": "36e87a82-1c8f-40a6-b3a9-39c08cb6cfc7",
   "metadata": {
    "tags": []
   },
   "outputs": [
    {
     "name": "stdout",
     "output_type": "stream",
     "text": [
      "Package                  Version\n",
      "------------------------ -----------\n",
      "aiofiles                 22.1.0\n",
      "aiosqlite                0.18.0\n",
      "anyio                    3.6.2\n",
      "argon2-cffi              21.3.0\n",
      "argon2-cffi-bindings     21.2.0\n",
      "arrow                    1.2.3\n",
      "asttokens                2.2.1\n",
      "attrs                    22.2.0\n",
      "Babel                    2.11.0\n",
      "backcall                 0.2.0\n",
      "beautifulsoup4           4.11.2\n",
      "bleach                   6.0.0\n",
      "certifi                  2022.12.7\n",
      "cffi                     1.15.1\n",
      "charset-normalizer       3.0.1\n",
      "colorama                 0.4.6\n",
      "comm                     0.1.2\n",
      "contourpy                1.0.7\n",
      "cycler                   0.11.0\n",
      "debugpy                  1.6.6\n",
      "decorator                5.1.1\n",
      "defusedxml               0.7.1\n",
      "executing                1.2.0\n",
      "fastjsonschema           2.16.2\n",
      "fonttools                4.38.0\n",
      "fqdn                     1.5.1\n",
      "idna                     3.4\n",
      "ipykernel                6.21.1\n",
      "ipython                  8.9.0\n",
      "ipython-genutils         0.2.0\n",
      "isoduration              20.11.0\n",
      "jedi                     0.18.2\n",
      "Jinja2                   3.1.2\n",
      "json5                    0.9.11\n",
      "jsonpointer              2.3\n",
      "jsonschema               4.17.3\n",
      "jupyter_client           8.0.2\n",
      "jupyter_core             5.2.0\n",
      "jupyter-events           0.5.0\n",
      "jupyter_server           2.2.1\n",
      "jupyter_server_fileid    0.6.0\n",
      "jupyter_server_terminals 0.4.4\n",
      "jupyter_server_ydoc      0.6.1\n",
      "jupyter-ydoc             0.2.2\n",
      "jupyterlab               3.6.0\n",
      "jupyterlab-pygments      0.2.2\n",
      "jupyterlab_server        2.19.0\n",
      "kiwisolver               1.4.4\n",
      "MarkupSafe               2.1.2\n",
      "matplotlib               3.6.3\n",
      "matplotlib-inline        0.1.6\n",
      "mistune                  2.0.4\n",
      "nbclassic                0.5.1\n",
      "nbclient                 0.7.2\n",
      "nbconvert                7.2.9\n",
      "nbformat                 5.7.3\n",
      "nest-asyncio             1.5.6\n",
      "notebook                 6.5.2\n",
      "notebook_shim            0.2.2\n",
      "numpy                    1.24.1\n",
      "opencv-contrib-python    4.7.0.68\n",
      "packaging                23.0\n",
      "pandocfilters            1.5.0\n",
      "parso                    0.8.3\n",
      "pickleshare              0.7.5\n",
      "Pillow                   9.4.0\n",
      "pip                      23.0\n",
      "platformdirs             2.6.2\n",
      "prometheus-client        0.16.0\n",
      "prompt-toolkit           3.0.36\n",
      "psutil                   5.9.4\n",
      "pure-eval                0.2.2\n",
      "pycparser                2.21\n",
      "Pygments                 2.14.0\n",
      "pyparsing                3.0.9\n",
      "pyrsistent               0.19.3\n",
      "python-dateutil          2.8.2\n",
      "python-json-logger       2.0.4\n",
      "pytz                     2022.7.1\n",
      "pywin32                  305\n",
      "pywinpty                 2.0.10\n",
      "PyYAML                   6.0\n",
      "pyzmq                    25.0.0\n",
      "requests                 2.28.2\n",
      "rfc3339-validator        0.1.4\n",
      "rfc3986-validator        0.1.1\n",
      "Send2Trash               1.8.0\n",
      "setuptools               65.5.0\n",
      "six                      1.16.0\n",
      "sniffio                  1.3.0\n",
      "soupsieve                2.3.2.post1\n",
      "stack-data               0.6.2\n",
      "terminado                0.17.1\n",
      "tinycss2                 1.2.1\n",
      "tornado                  6.2\n",
      "traitlets                5.9.0\n",
      "uri-template             1.2.0\n",
      "urllib3                  1.26.14\n",
      "wcwidth                  0.2.6\n",
      "webcolors                1.12\n",
      "webencodings             0.5.1\n",
      "websocket-client         1.5.0\n",
      "y-py                     0.5.5\n",
      "ypy-websocket            0.8.2\n"
     ]
    }
   ],
   "source": [
    "!pip list"
   ]
  },
  {
   "cell_type": "code",
   "execution_count": 2,
   "id": "09ad4b55-7dd1-4c6b-877d-7e2cd43c6d47",
   "metadata": {
    "tags": []
   },
   "outputs": [],
   "source": []
  },
  {
   "cell_type": "code",
   "execution_count": 3,
   "id": "6cc697ab-b85a-4671-a947-e1435f5ef924",
   "metadata": {
    "tags": []
   },
   "outputs": [],
   "source": [
    "# import the opencv library\n",
    "import cv2\n",
    "\n",
    "\n",
    "# define a video capture object\n",
    "vid = cv2.VideoCapture(0)\n",
    "\n",
    "while(True):\n",
    "\t\n",
    "\t# Capture the video frame\n",
    "\t# by frame\n",
    "\tret, frame = vid.read()\n",
    "\n",
    "\t# Display the resulting frame\n",
    "\tcv2.imshow('frame', frame)\n",
    "\t\n",
    "\t# the 'q' button is set as the\n",
    "\t# quitting button you may use any\n",
    "\t# desired button of your choice\n",
    "\tif cv2.waitKey(1) & 0xFF == ord('q'):\n",
    "\t\tbreak\n",
    "\n",
    "# After the loop release the cap object\n",
    "vid.release()\n",
    "# Destroy all the windows\n",
    "cv2.destroyAllWindows()\n"
   ]
  },
  {
   "cell_type": "markdown",
   "id": "e9da6f3d-06ce-4fdf-8849-d39bc5b6c557",
   "metadata": {
    "tags": []
   },
   "source": [
    "# Object detection in Live stream"
   ]
  },
  {
   "cell_type": "code",
   "execution_count": 16,
   "id": "f5645c6f-0feb-4921-a1a2-e92028b74b0c",
   "metadata": {},
   "outputs": [],
   "source": [
    "import cv2\n",
    "import numpy as np\n",
    "\n",
    "# Load the cascade\n",
    "bottle_cascade = cv2.CascadeClassifier('xml/Desi.xml')\n",
    "\n",
    "# Start the camera\n",
    "cap = cv2.VideoCapture(0)\n",
    "\n",
    "while True:\n",
    "    # Read the frame\n",
    "    ret, frame = cap.read()\n",
    "\n",
    "    # Convert the frame to grayscale\n",
    "    gray = cv2.cvtColor(frame, cv2.COLOR_BGR2GRAY)\n",
    "\n",
    "    # Detect bottles in the frame\n",
    "    bottles = bottle_cascade.detectMultiScale(gray, scaleFactor=1.1, minNeighbors=4)\n",
    "\n",
    "    # Draw rectangles around the bottles\n",
    "    for (x, y, w, h) in bottles:\n",
    "        cv2.rectangle(frame, (x, y), (x+w, y+h), (0, 255, 0), 2)\n",
    "\n",
    "    # Display the resulting frame\n",
    "    cv2.imshow('Bottle Detection', frame)\n",
    "\n",
    "    # Stop the program if 'q' is pressed\n",
    "    if cv2.waitKey(1) & 0xFF == ord('q'):\n",
    "        break\n",
    "\n",
    "# Release the camera\n",
    "cap.release()\n",
    "\n",
    "# Destroy all windows\n",
    "cv2.destroyAllWindows()"
   ]
  },
  {
   "cell_type": "code",
   "execution_count": 14,
   "id": "ea8de2e6-d178-4e5d-9ebe-af474e2f751a",
   "metadata": {
    "tags": []
   },
   "outputs": [],
   "source": [
    "import cv2\n",
    "\n",
    "face_cascade = cv2.CascadeClassifier(\"opencv-4.7.0/data/haarcascades/haarcascade_smile.xml\")\n",
    "\n",
    "def detect(gray, frame):\n",
    "    faces = face_cascade.detectMultiScale(gray, 1.3, 5)\n",
    "    for (x,y,w,h) in faces:\n",
    "        cv2.rectangle(frame, (x, y), (x+w, y+h), (0, 255, 0), 2)\n",
    "        roi_gray = gray[y:y+h, x:x+w]\n",
    "        roi_color = frame[y:y+h, x:x+w]\n",
    "    return frame\n",
    "\n",
    "video_capture = cv2.VideoCapture(0)\n",
    "while True:\n",
    "    _, frame = video_capture.read()\n",
    "    gray = cv2.cvtColor(frame, cv2.COLOR_BGR2GRAY)\n",
    "    canvas = detect(gray, frame)\n",
    "    cv2.imshow(\"Video\", gray)\n",
    "    if cv2.waitKey(1) & 0xFF == ord('q'):\n",
    "        break\n",
    "        \n",
    "video_capture.release()\n",
    "cv2.destroyAllWindows()\n",
    "        "
   ]
  },
  {
   "cell_type": "code",
   "execution_count": 16,
   "id": "5b5aa658-eba6-4397-a779-203ddbc9974b",
   "metadata": {
    "tags": []
   },
   "outputs": [],
   "source": [
    "#This WORKS!!!\n",
    "\n",
    "import cv2\n",
    "\n",
    "# Load the cascade\n",
    "face_cascade = cv2.CascadeClassifier('xml/haarcascade_frontalcatface_extended.xml')\n",
    "\n",
    "# To capture video from webcam. \n",
    "cap = cv2.VideoCapture(0)\n",
    "# To use a video file as input \n",
    "# cap = cv2.VideoCapture('filename.mp4')\n",
    "\n",
    "while True:\n",
    "    # Read the frame\n",
    "    _, img = cap.read()\n",
    "\n",
    "    # Convert to grayscale\n",
    "    gray = cv2.cvtColor(img, cv2.COLOR_BGR2GRAY)\n",
    "\n",
    "    # Detect the faces\n",
    "    faces = face_cascade.detectMultiScale(gray, 1.1, 4)\n",
    "\n",
    "    # Draw the rectangle around each face\n",
    "    for (x, y, w, h) in faces:\n",
    "        cv2.rectangle(img, (x, y), (x+w, y+h), (255, 0, 0), 2)\n",
    "\n",
    "    # Display\n",
    "    cv2.imshow('img', img)\n",
    "\n",
    "    # Stop if escape key is pressed\n",
    "    if cv2.waitKey(1) & 0xFF == ord('q'):\n",
    "        break\n",
    "        \n",
    "# Release the VideoCapture object\n",
    "cap.release()\n",
    "cv2.destroyAllWindows()"
   ]
  },
  {
   "cell_type": "markdown",
   "id": "e45a15b7-53ef-4d69-93be-ba0e0ed07c3f",
   "metadata": {
    "tags": []
   },
   "source": [
    "# Object Detection in Images"
   ]
  },
  {
   "cell_type": "code",
   "execution_count": 19,
   "id": "67edf617-c4f6-4625-a209-8dc9473f79b5",
   "metadata": {
    "tags": []
   },
   "outputs": [],
   "source": [
    "import cv2\n",
    "import numpy as np\n",
    "\n",
    "bottle_cascade = cv2.CascadeClassifier('xml/Desi.xml')\n",
    "# Load the image\n",
    "img = cv2.imread('Test/Bottle1.bmp')\n",
    "\n",
    "gray = cv2.cvtColor(img, cv2.COLOR_BGR2GRAY)\n",
    "bottles = bottle_cascade.detectMultiScale(gray, scaleFactor=1.1, minNeighbors=3)\n",
    "\n",
    "for (x, y, w, h) in bottles:\n",
    "    cv2.rectangle(img, (x, y), (x+w, y+h), (0, 255, 0), 2)\n",
    "\n",
    "# Display the image\n",
    "cv2.imshow('Image', img)\n",
    "cv2.waitKey(0)\n",
    "cv2.destroyAllWindows()\n"
   ]
  },
  {
   "cell_type": "code",
   "execution_count": 1,
   "id": "078be441-d342-4e7c-b40f-5830c1ad4052",
   "metadata": {
    "tags": []
   },
   "outputs": [],
   "source": [
    "#here is code to check the output\n",
    "import cv2\n",
    "face_cascade=cv2.CascadeClassifier(r\"opencv-4.7.0/data/haarcascades/haarcascade_frontalcatface.xml\")###path of cascade file\n",
    "## following is an test image u can take any image from the p folder in the temp folder and paste address of it on below line \n",
    "img= cv2.imread(r\"000009.jpg\")###path of image file which we want to detect\n",
    "resized = cv2.resize(img,(400,200))\n",
    "gray=cv2.cvtColor(resized,cv2.COLOR_BGR2GRAY)\n",
    "faces=face_cascade.detectMultiScale(gray,6.5,17)#try to tune this 6.5 and 17 parameter to get good result \n",
    "##if not getting good result try to train new cascade.xml file again deleting other file expect p and n in temp folder\n",
    "for(x,y,w,h) in faces:\n",
    "    resized=cv2.rectangle(resized,(x,y),(x+w,y+h),(0,255,0),2)\n",
    "cv2.imshow('img',resized)\n",
    "cv2.waitKey(0)\n",
    "cv2.destroyAllWindows()"
   ]
  },
  {
   "cell_type": "code",
   "execution_count": 12,
   "id": "eb6aa653-72f6-4d8f-bd81-3cc7a3e58a24",
   "metadata": {
    "tags": []
   },
   "outputs": [
    {
     "data": {
      "text/plain": [
       "-1"
      ]
     },
     "execution_count": 12,
     "metadata": {},
     "output_type": "execute_result"
    }
   ],
   "source": [
    "import cv2\n",
    "\n",
    "# Load the cascade\n",
    "face_cascade = cv2.CascadeClassifier('xml/haarcascade_frontalcatface_extended.xml')\n",
    "\n",
    "# Read the input image\n",
    "img = cv2.imread('Test/000027.jpg')\n",
    "\n",
    "# Convert into grayscale\n",
    "gray = cv2.cvtColor(img, cv2.COLOR_BGR2GRAY)\n",
    "\n",
    "# Detect faces\n",
    "faces = face_cascade.detectMultiScale(gray, 1.1, 4)\n",
    "\n",
    "# Draw rectangle around the faces\n",
    "for (x, y, w, h) in faces:\n",
    "    cv2.rectangle(img, (x, y), (x + w, y + h), (255, 0, 0), 2)\n",
    "\n",
    "# Display the output\n",
    "cv2.imshow('img', img)\n",
    "cv2.waitKey()"
   ]
  },
  {
   "cell_type": "markdown",
   "id": "aba68592-1f26-405f-9d03-bf681b9f817a",
   "metadata": {
    "tags": []
   },
   "source": [
    "# Resize Image using cv2"
   ]
  },
  {
   "cell_type": "code",
   "execution_count": 5,
   "id": "6c107538-697f-40dc-84a8-59f2118afa24",
   "metadata": {
    "tags": []
   },
   "outputs": [],
   "source": [
    "import cv2\n",
    "\n",
    "# Load the image\n",
    "img = cv2.imread(\"000009.jpg\")\n",
    "\n",
    "# Get the dimensions of the image\n",
    "height, width = img.shape[:2]\n",
    "\n",
    "# Define the scale factor for resizing\n",
    "scale_factor = 0.5\n",
    "\n",
    "# Resize the image\n",
    "resized_img = cv2.resize(img, (int(width * scale_factor), int(height * scale_factor)))\n",
    "\n",
    "# Display the resized image\n",
    "cv2.imwrite(\"000009.jpg\", resized_img)\n",
    "cv2.waitKey(0)\n",
    "cv2.destroyAllWindows()\n"
   ]
  },
  {
   "cell_type": "code",
   "execution_count": null,
   "id": "a13c4833-b10d-4fea-8c98-06edc07da740",
   "metadata": {},
   "outputs": [],
   "source": []
  }
 ],
 "metadata": {
  "kernelspec": {
   "display_name": "new_opencv",
   "language": "python",
   "name": "new_opencv"
  },
  "language_info": {
   "codemirror_mode": {
    "name": "ipython",
    "version": 3
   },
   "file_extension": ".py",
   "mimetype": "text/x-python",
   "name": "python",
   "nbconvert_exporter": "python",
   "pygments_lexer": "ipython3",
   "version": "3.11.1"
  }
 },
 "nbformat": 4,
 "nbformat_minor": 5
}
