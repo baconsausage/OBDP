{
 "cells": [
  {
   "cell_type": "code",
   "execution_count": 20,
   "id": "96d63577-8f33-493a-b6f0-2244d8585879",
   "metadata": {
    "tags": []
   },
   "outputs": [],
   "source": [
    "import cv2\n",
    "import os\n",
    "import time\n",
    "\n",
    "myPath = \"Webcam/\"\n",
    "cameraNo = 1\n",
    "cameraBrightness = 190\n",
    "moduleVal = 10 #save every 10th frame\n",
    "minBlur = 500 #reject images with bluriness below this value\n",
    "grayImage = False\n",
    "saveData = True\n",
    "showImage = True\n",
    "imgWidth = 180\n",
    "imgHeight = 120\n",
    "\n",
    "global countFolder\n",
    "cap = cv2.VideoCapture(cameraNo)\n",
    "cap.set(3, 640)\n",
    "cap.set(4, 480)\n",
    "cap.set(10, cameraBrightness)\n",
    "\n",
    "count = 0\n",
    "countSave = 0\n",
    "\n",
    "def saveDataFunc():\n",
    "    global countFolder\n",
    "    countFolder = 0\n",
    "    while os.path.exists( myPath + str(countFolder)):\n",
    "        countFolder = countFolder + 1\n",
    "    os.makedirs( myPath + str(countFolder))\n",
    "    \n",
    "if saveData:saveDataFunc()\n",
    "\n",
    "while True:\n",
    "    success, img = cap.read()\n",
    "    img = cv2.resize(img,(imgWidth, imgHeight))\n",
    "    if grayImage:img = cv2.cvtColor(img, cv2.COLOR_BGR2GRAY)\n",
    "    if saveData:\n",
    "        blur = cv2.Laplacian(img, cv2.CV_64F).var()\n",
    "        if count % moduleVal == 0 and blur > minBlur:\n",
    "            nowTime = time.time()\n",
    "            cv2.imwrite( myPath + str(countFolder) + '/' + str(countSave) + \"_\" + str(int(blur)) + \"_\" + str(nowTime) + \".png\", img )\n",
    "            countSave += 1\n",
    "        count += 1\n",
    "    if showImage:\n",
    "        cv2.imshow(\"Image\", img)\n",
    "    \n",
    "    if cv2.waitKey(1) & 0xFF == ord('q'):\n",
    "        break\n",
    "\n",
    "cap.release()\n",
    "cv2.destroyAllWindows()"
   ]
  },
  {
   "cell_type": "code",
   "execution_count": null,
   "id": "d1754d7a-e187-48bc-a3c5-672d722573c8",
   "metadata": {},
   "outputs": [],
   "source": []
  }
 ],
 "metadata": {
  "kernelspec": {
   "display_name": "opencv_new",
   "language": "python",
   "name": "opencv_new"
  },
  "language_info": {
   "codemirror_mode": {
    "name": "ipython",
    "version": 3
   },
   "file_extension": ".py",
   "mimetype": "text/x-python",
   "name": "python",
   "nbconvert_exporter": "python",
   "pygments_lexer": "ipython3",
   "version": "3.11.2"
  }
 },
 "nbformat": 4,
 "nbformat_minor": 5
}
