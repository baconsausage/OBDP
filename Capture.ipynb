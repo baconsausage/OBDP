{
 "cells": [
  {
   "cell_type": "markdown",
   "id": "abe5631a-7b01-4dad-94f2-a2dedd3de0aa",
   "metadata": {
    "jp-MarkdownHeadingCollapsed": true,
    "tags": []
   },
   "source": [
    "# Noob"
   ]
  },
  {
   "cell_type": "code",
   "execution_count": null,
   "id": "a3984561-2700-4424-b9ce-a32cc76b5a7a",
   "metadata": {
    "tags": []
   },
   "outputs": [],
   "source": [
    "import cv2, os, time"
   ]
  },
  {
   "cell_type": "code",
   "execution_count": null,
   "id": "014fe4c8-0af5-4d88-b2a5-5d48025e3775",
   "metadata": {
    "tags": []
   },
   "outputs": [],
   "source": [
    "#ready made online code but has a problem of image resolution.\n",
    "\n",
    "myPath = \"Webcam/\"\n",
    "cameraNo = 0\n",
    "cameraBrightness = 190\n",
    "moduleVal = 1 #save every 1st frame\n",
    "minBlur = 500 #reject images with bluriness below this value\n",
    "grayImage = False\n",
    "saveData = True\n",
    "showImage = True\n",
    "#imgWidth = 180\n",
    "#imgHeight = 120\n",
    "\n",
    "global countFolder\n",
    "cap = cv2.VideoCapture(cameraNo)\n",
    "cap.set(3, 640)\n",
    "cap.set(4, 480)\n",
    "cap.set(10, cameraBrightness)\n",
    "\n",
    "count = 0\n",
    "countSave = 0\n",
    "\n",
    "def saveDataFunc():\n",
    "    global countFolder\n",
    "    countFolder = 0\n",
    "    while os.path.exists( myPath + str(countFolder)):\n",
    "        countFolder = countFolder + 1\n",
    "    os.makedirs( myPath + str(countFolder))\n",
    "    \n",
    "if saveData:saveDataFunc()\n",
    "\n",
    "while True:\n",
    "    success, img = cap.read()\n",
    "    img = cv2.resize(img,(512, 512))\n",
    "    if grayImage:img = cv2.cvtColor(img, cv2.COLOR_BGR2GRAY)\n",
    "    if saveData:\n",
    "        blur = cv2.Laplacian(img, cv2.CV_64F).var()\n",
    "        if count % moduleVal == 0 and blur > minBlur:\n",
    "            nowTime = time.time()\n",
    "            cv2.imwrite( myPath + str(countFolder) + '/' + str(countSave) + \"_\" + str(int(blur)) + \"_\" + str(nowTime) + \".jpg\", img )\n",
    "            countSave += 1\n",
    "        count += 1\n",
    "    if showImage:\n",
    "        cv2.imshow(\"Image\", img)\n",
    "    \n",
    "    if cv2.waitKey(1) & 0xFF == ord('q'):\n",
    "        break\n",
    "\n",
    "cap.release()\n",
    "cv2.destroyAllWindows()"
   ]
  },
  {
   "cell_type": "markdown",
   "id": "18174daa-c69b-4f31-b146-ab5e1e8f1ec7",
   "metadata": {},
   "source": [
    "# Done"
   ]
  },
  {
   "cell_type": "code",
   "execution_count": 1,
   "id": "ff6f293a-2c31-4034-85d4-7323e394408c",
   "metadata": {
    "tags": []
   },
   "outputs": [],
   "source": [
    "import cv2, os, time, shutil\n",
    "\n",
    "myPath = 'Webcam/'\n",
    "count = 0 \n",
    "moduleVal = 5 \n",
    "countSave = 0\n",
    "\n",
    "#Initialize VideoCapture\n",
    "cap = cv2.VideoCapture(0)\n",
    "\n",
    "#Initialize FPS\n",
    "#fps_start_time = time.time()\n",
    "#fps = 0\n",
    "#frame_count = 0\n",
    "\n",
    "\n",
    "def saveDataFunc():\n",
    "    if os.path.exists(myPath):\n",
    "        shutil.rmtree(myPath)\n",
    "    os.makedirs(myPath)\n",
    "    \n",
    "if True:saveDataFunc()\n",
    "\n",
    "while True:\n",
    "    ret, frame = cap.read()\n",
    "    \n",
    "    \n",
    "    \n",
    "    if True:\n",
    "        img = cv2.resize(frame,(512, 512))\n",
    "        if count % moduleVal == 0:\n",
    "            cv2.imwrite( myPath + str(countSave) + \".png\", frame )\n",
    "            countSave += 1\n",
    "        count += 1\n",
    "    \n",
    "    cv2.imshow(\"Capture\", frame)\n",
    "\n",
    "    if cv2.waitKey(1) & 0xFF == ord('q'):\n",
    "        break\n",
    "\n",
    "# release the video capture object and close all windows\n",
    "cap.release()\n",
    "cv2.destroyAllWindows()\n"
   ]
  },
  {
   "cell_type": "code",
   "execution_count": 7,
   "id": "26a28fcc-79a3-46df-892e-4392c9e5540a",
   "metadata": {},
   "outputs": [
    {
     "name": "stdout",
     "output_type": "stream",
     "text": [
      "['0.png', '1.png', '10.png', '11.png', '12.png', '13.png', '14.png', '15.png', '16.png', '17.png', '18.png', '19.png', '2.png', '20.png', '21.png', '22.png', '23.png', '24.png', '25.png', '26.png', '27.png', '28.png', '29.png', '3.png', '30.png', '31.png', '32.png', '33.png', '34.png', '35.png', '36.png', '37.png', '38.png', '39.png', '4.png', '40.png', '41.png', '5.png', '6.png', '7.png', '8.png', '9.png']\n"
     ]
    }
   ],
   "source": [
    "import os\n",
    "\n",
    "# Specify the directory path\n",
    "dir_path = 'Webcam'\n",
    "\n",
    "# Get a list of all files in the directory\n",
    "files = os.listdir(dir_path)\n",
    "\n",
    "# Print the list of files\n",
    "filelist = []\n",
    "for file in files:\n",
    "    filelist.append(file)\n",
    "print(filelist)"
   ]
  },
  {
   "cell_type": "code",
   "execution_count": 8,
   "id": "4690ec7c-79ed-42d3-83e2-24714c0567a9",
   "metadata": {
    "tags": []
   },
   "outputs": [
    {
     "name": "stdout",
     "output_type": "stream",
     "text": [
      "['0', '1', '10', '11', '12', '13', '14', '15', '16', '17', '18', '19', '2', '20', '21', '22', '23', '24', '25', '26', '27', '28', '29', '3', '30', '31', '32', '33', '34', '35', '36', '37', '38', '39', '4', '40', '41', '5', '6', '7', '8', '9']\n"
     ]
    }
   ],
   "source": [
    "filelist2 = []\n",
    "for file in filelist:\n",
    "    new_file = file.translate({ord(i): None for i in '.png'})\n",
    "    #new_file = file.split('.')\n",
    "    filelist2.append(new_file)\n",
    "print(filelist2)"
   ]
  },
  {
   "cell_type": "code",
   "execution_count": 9,
   "id": "648dc977-a90e-4599-a241-2a6ec3746697",
   "metadata": {
    "tags": []
   },
   "outputs": [
    {
     "name": "stdout",
     "output_type": "stream",
     "text": [
      "[0, 1, 10, 11, 12, 13, 14, 15, 16, 17, 18, 19, 2, 20, 21, 22, 23, 24, 25, 26, 27, 28, 29, 3, 30, 31, 32, 33, 34, 35, 36, 37, 38, 39, 4, 40, 41, 5, 6, 7, 8, 9]\n"
     ]
    }
   ],
   "source": [
    "filelist3 = []\n",
    "for item in filelist2:\n",
    "    new_item = int(item)\n",
    "    filelist3.append(new_item)\n",
    "print(filelist3)"
   ]
  },
  {
   "cell_type": "code",
   "execution_count": 10,
   "id": "5c6b4754-cd9f-4e9c-888e-cdcb56730d20",
   "metadata": {
    "tags": []
   },
   "outputs": [
    {
     "name": "stdout",
     "output_type": "stream",
     "text": [
      "41\n"
     ]
    }
   ],
   "source": [
    "var = max(filelist3)\n",
    "print(var)"
   ]
  },
  {
   "cell_type": "code",
   "execution_count": 16,
   "id": "08f07fa0-9a78-481d-afdf-c2d69628e425",
   "metadata": {
    "tags": []
   },
   "outputs": [],
   "source": [
    "for i in os.listdir('Webcam/'):\n",
    "    filename = str(var) + '.png'\n",
    "    if filename == i:\n",
    "        continue\n",
    "    else:\n",
    "        filename2 = myPath + i\n",
    "        os.remove(filename2)\n",
    "    "
   ]
  },
  {
   "cell_type": "code",
   "execution_count": null,
   "id": "be7c0f2d-5545-48e1-8023-18ce1af17d9f",
   "metadata": {},
   "outputs": [],
   "source": []
  },
  {
   "cell_type": "code",
   "execution_count": null,
   "id": "e58deeb3-9dc2-4c87-903d-38e0e1353d86",
   "metadata": {},
   "outputs": [],
   "source": []
  },
  {
   "cell_type": "code",
   "execution_count": null,
   "id": "49393f07-756e-4cd6-8546-86566498d88b",
   "metadata": {},
   "outputs": [],
   "source": []
  },
  {
   "cell_type": "code",
   "execution_count": null,
   "id": "f1261f8d-ce07-4dba-be7b-a2c95241f270",
   "metadata": {},
   "outputs": [],
   "source": []
  },
  {
   "cell_type": "code",
   "execution_count": null,
   "id": "0a24f8ea-d3f7-46f0-97fd-9707d34c866a",
   "metadata": {},
   "outputs": [],
   "source": []
  },
  {
   "cell_type": "code",
   "execution_count": null,
   "id": "0bbe1d53-1c6c-40a1-bb94-6fa2b76ffb68",
   "metadata": {},
   "outputs": [],
   "source": []
  },
  {
   "cell_type": "code",
   "execution_count": null,
   "id": "ce044529-4ede-4beb-bce0-2e8b9ccc7eb2",
   "metadata": {},
   "outputs": [],
   "source": []
  },
  {
   "cell_type": "code",
   "execution_count": 52,
   "id": "619a87d8-cb6c-44ea-85a0-6f0e4e6f08fd",
   "metadata": {
    "tags": []
   },
   "outputs": [
    {
     "name": "stdout",
     "output_type": "stream",
     "text": [
      "1679414496.080762\n"
     ]
    }
   ],
   "source": [
    "import os\n",
    "\n",
    "\n",
    "dir_path = 'Webcam/'\n",
    "\n",
    "files = os.listdir(dir_path)\n",
    "\n",
    "timelist = []\n",
    "for i in files:  \n",
    "    abspath = dir_path + i\n",
    "    filetime = os.path.getmtime(abspath)\n",
    "    timelist.append(filetime)\n",
    "Latest = max(timelist)\n",
    "print(Latest)\n",
    "    #pathlist.append(path)\n",
    "#print(pathlist)\n"
   ]
  },
  {
   "cell_type": "code",
   "execution_count": 50,
   "id": "905ecfb8-aebe-4c9b-a2c3-fc92e23ec6a4",
   "metadata": {
    "tags": []
   },
   "outputs": [
    {
     "name": "stdout",
     "output_type": "stream",
     "text": [
      "Success\n",
      "33.png\n"
     ]
    }
   ],
   "source": [
    "for i in os.listdir('Webcam/'):\n",
    "    path = 'Webcam/' + i\n",
    "    if os.path.getmtime(path) == Latest:\n",
    "        print('Success')\n",
    "        print(i)\n",
    "    else:\n",
    "        os.remove(path)"
   ]
  },
  {
   "cell_type": "code",
   "execution_count": 3,
   "id": "bea2d7af-0fb0-451e-ac3c-fad2140af534",
   "metadata": {
    "tags": []
   },
   "outputs": [
    {
     "ename": "FileNotFoundError",
     "evalue": "[WinError 2] The system cannot find the file specified: 'Webcam/9.png'",
     "output_type": "error",
     "traceback": [
      "\u001b[1;31m---------------------------------------------------------------------------\u001b[0m",
      "\u001b[1;31mFileNotFoundError\u001b[0m                         Traceback (most recent call last)",
      "Cell \u001b[1;32mIn[3], line 29\u001b[0m\n\u001b[0;32m     23\u001b[0m \u001b[38;5;66;03m#print(latest_image)\u001b[39;00m\n\u001b[0;32m     24\u001b[0m \n\u001b[0;32m     25\u001b[0m \u001b[38;5;66;03m#Looping through files again to delete the unrequired ones\u001b[39;00m\n\u001b[0;32m     26\u001b[0m \u001b[38;5;28;01mfor\u001b[39;00m i \u001b[38;5;129;01min\u001b[39;00m files:\n\u001b[0;32m     27\u001b[0m     \n\u001b[0;32m     28\u001b[0m     \u001b[38;5;66;03m#Comparision of modification time\u001b[39;00m\n\u001b[1;32m---> 29\u001b[0m     \u001b[38;5;28;01mif\u001b[39;00m \u001b[43mos\u001b[49m\u001b[38;5;241;43m.\u001b[39;49m\u001b[43mpath\u001b[49m\u001b[38;5;241;43m.\u001b[39;49m\u001b[43mgetmtime\u001b[49m\u001b[43m(\u001b[49m\u001b[43mabspath\u001b[49m\u001b[43m)\u001b[49m \u001b[38;5;241m==\u001b[39m latest_image:\n\u001b[0;32m     30\u001b[0m         \u001b[38;5;28mprint\u001b[39m(\u001b[38;5;124m'\u001b[39m\u001b[38;5;124mLatest Image is \u001b[39m\u001b[38;5;124m'\u001b[39m \u001b[38;5;241m+\u001b[39m i)\n\u001b[0;32m     31\u001b[0m     \u001b[38;5;28;01melse\u001b[39;00m:\n",
      "File \u001b[1;32m<frozen genericpath>:55\u001b[0m, in \u001b[0;36mgetmtime\u001b[1;34m(filename)\u001b[0m\n",
      "\u001b[1;31mFileNotFoundError\u001b[0m: [WinError 2] The system cannot find the file specified: 'Webcam/9.png'"
     ]
    }
   ],
   "source": [
    "import os\n",
    "\n",
    "#Path to the main folder\n",
    "folder = 'Webcam/'\n",
    "\n",
    "#Listing all the items in the main folder\n",
    "files = os.listdir(folder)\n",
    "\n",
    "#Creating a list for modified time\n",
    "timelist = []\n",
    "\n",
    "#Looping through each file in the folder\n",
    "for i in files:\n",
    "    \n",
    "    #Absolute path as os module checks in the wrong dir\n",
    "    abspath = folder + i \n",
    "    \n",
    "    #Append the timelist with the modification time of each file\n",
    "    timelist.append(os.path.getmtime(abspath))\n",
    "    \n",
    "#Get the max value from timelist as it belongs to the latest file\n",
    "latest_image = max(timelist) \n",
    "#print(latest_image)\n",
    "\n",
    "#Looping through files again to delete the unrequired ones\n",
    "for i in files:\n",
    "    \n",
    "    #Comparision of modification time\n",
    "    if os.path.getmtime(abspath) == latest_image:\n",
    "        print('Latest Image is ' + i)\n",
    "    else:\n",
    "        os.remove(abspath)\n",
    "    "
   ]
  },
  {
   "cell_type": "code",
   "execution_count": null,
   "id": "f87092de-3b15-4d47-9263-3a845812a7c7",
   "metadata": {},
   "outputs": [],
   "source": []
  }
 ],
 "metadata": {
  "kernelspec": {
   "display_name": "haarsucks",
   "language": "python",
   "name": "haarsucks"
  },
  "language_info": {
   "codemirror_mode": {
    "name": "ipython",
    "version": 3
   },
   "file_extension": ".py",
   "mimetype": "text/x-python",
   "name": "python",
   "nbconvert_exporter": "python",
   "pygments_lexer": "ipython3",
   "version": "3.11.2"
  }
 },
 "nbformat": 4,
 "nbformat_minor": 5
}
